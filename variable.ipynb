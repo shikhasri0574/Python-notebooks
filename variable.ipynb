{
 "cells": [
  {
   "cell_type": "markdown",
   "metadata": {},
   "source": [
    "Variable\n",
    "\n",
    "Variable are fundamental elements in programming used to store data that can be referenced and manipulated in a program."
   ]
  },
  {
   "cell_type": "code",
   "execution_count": 1,
   "metadata": {},
   "outputs": [],
   "source": [
    "a= 100"
   ]
  },
  {
   "cell_type": "code",
   "execution_count": 2,
   "metadata": {},
   "outputs": [
    {
     "name": "stdout",
     "output_type": "stream",
     "text": [
      "age: 32\n",
      "height: 6.1\n",
      "name: krish\n"
     ]
    }
   ],
   "source": [
    "##declaring and assigning variables\n",
    "\n",
    "age= 32\n",
    "height = 6.1\n",
    "name= \"krish\"\n",
    "is_student=True\n",
    "\n",
    "##printing variable\n",
    "\n",
    "print(\"age:\",age)\n",
    "print(\"height:\", height)\n",
    "print(\"name:\",name)\n"
   ]
  },
  {
   "cell_type": "code",
   "execution_count": 3,
   "metadata": {},
   "outputs": [],
   "source": [
    "##Naming conventions\n",
    "## VARIABLE name should be descriptive\n",
    "## they must start with a letter or an'_' and contain letter,numbers and underscores\n",
    "## variables names case sensitive\n",
    "\n",
    "## valid variable names\n",
    "first_name=\"krish\"\n",
    "last_name=\"naik\"\n",
    "\n"
   ]
  },
  {
   "cell_type": "code",
   "execution_count": 4,
   "metadata": {},
   "outputs": [
    {
     "data": {
      "text/plain": [
       "float"
      ]
     },
     "execution_count": 4,
     "metadata": {},
     "output_type": "execute_result"
    }
   ],
   "source": [
    "height= 5.6\n",
    "type(height)"
   ]
  },
  {
   "cell_type": "code",
   "execution_count": 5,
   "metadata": {},
   "outputs": [
    {
     "data": {
      "text/plain": [
       "5"
      ]
     },
     "execution_count": 5,
     "metadata": {},
     "output_type": "execute_result"
    }
   ],
   "source": [
    "int(height)"
   ]
  },
  {
   "cell_type": "code",
   "execution_count": 6,
   "metadata": {},
   "outputs": [
    {
     "data": {
      "text/plain": [
       "5.0"
      ]
     },
     "execution_count": 6,
     "metadata": {},
     "output_type": "execute_result"
    }
   ],
   "source": [
    "float(int(height))"
   ]
  },
  {
   "cell_type": "code",
   "execution_count": 7,
   "metadata": {},
   "outputs": [
    {
     "name": "stdout",
     "output_type": "stream",
     "text": [
      "10 <class 'int'>\n",
      "hello <class 'str'>\n"
     ]
    }
   ],
   "source": [
    "##Dynamic Typing\n",
    "## Python allows the type of a variable to change as the program executes\n",
    "var=10 \n",
    "print(var,type(var))\n",
    "\n",
    "var=\"hello\"\n",
    "print(var,type(var))"
   ]
  },
  {
   "cell_type": "code",
   "execution_count": 10,
   "metadata": {},
   "outputs": [
    {
     "name": "stdout",
     "output_type": "stream",
     "text": [
      "45 <class 'int'>\n"
     ]
    }
   ],
   "source": [
    "##input\n",
    "age= int(input(\"what is the age\"))\n",
    "print(age ,type(age))"
   ]
  }
 ],
 "metadata": {
  "kernelspec": {
   "display_name": "Python 3",
   "language": "python",
   "name": "python3"
  },
  "language_info": {
   "codemirror_mode": {
    "name": "ipython",
    "version": 3
   },
   "file_extension": ".py",
   "mimetype": "text/x-python",
   "name": "python",
   "nbconvert_exporter": "python",
   "pygments_lexer": "ipython3",
   "version": "3.12.6"
  }
 },
 "nbformat": 4,
 "nbformat_minor": 2
}
