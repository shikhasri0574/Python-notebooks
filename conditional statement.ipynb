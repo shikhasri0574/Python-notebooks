{
 "cells": [
  {
   "cell_type": "markdown",
   "metadata": {},
   "source": [
    "Conditional Statements(if, elif, else)\n",
    "\n"
   ]
  },
  {
   "cell_type": "code",
   "execution_count": 1,
   "metadata": {},
   "outputs": [
    {
     "name": "stdout",
     "output_type": "stream",
     "text": [
      "eligible\n"
     ]
    }
   ],
   "source": [
    "##if statement\n",
    "age=20\n",
    "if age>=20:\n",
    "    print(\"eligible\")"
   ]
  },
  {
   "cell_type": "code",
   "execution_count": 2,
   "metadata": {},
   "outputs": [
    {
     "name": "stdout",
     "output_type": "stream",
     "text": [
      "minor\n"
     ]
    }
   ],
   "source": [
    "## else\n",
    "age=16\n",
    "\n",
    "if age>=20:\n",
    "    print(\"eligible\")\n",
    "else:\n",
    "    print(\"minor\")"
   ]
  },
  {
   "cell_type": "code",
   "execution_count": 3,
   "metadata": {},
   "outputs": [
    {
     "name": "stdout",
     "output_type": "stream",
     "text": [
      "adult\n"
     ]
    }
   ],
   "source": [
    "## elif = allows you to check multiple confitions. like else if\n",
    "\n",
    "age =20\n",
    "\n",
    "if age<13:\n",
    "    print(\"child\")\n",
    "elif age<18:\n",
    "    print(\"teen\")\n",
    "else:\n",
    "    print(\"adult\")"
   ]
  },
  {
   "cell_type": "code",
   "execution_count": 5,
   "metadata": {},
   "outputs": [
    {
     "name": "stdout",
     "output_type": "stream",
     "text": [
      "negative\n"
     ]
    }
   ],
   "source": [
    "## nested conditional statements\n",
    "\n",
    "## number even, odd, negative\n",
    "\n",
    "num = int(input(\"enter the number\"))\n",
    "if num>=0:\n",
    "    print(\"num is positive\")\n",
    "    if num%2==0:\n",
    "        print(\"even\")\n",
    "    else:\n",
    "        print(\"odd\")\n",
    "else:\n",
    "    print(\"negative\")      "
   ]
  },
  {
   "cell_type": "code",
   "execution_count": 10,
   "metadata": {},
   "outputs": [
    {
     "name": "stdout",
     "output_type": "stream",
     "text": [
      "2024 is a leap year\n"
     ]
    }
   ],
   "source": [
    "## Leap year or not\n",
    "year = int(input(\"enter the year\"))\n",
    "if(year%4==0):\n",
    "    if year%100==0:\n",
    "        if year%400==0:\n",
    "             print(\"leap year\")\n",
    "        else:\n",
    "         print(\"not\")\n",
    "    else:\n",
    "        print(year, \"is a leap year\")\n",
    "else:\n",
    "    print(year, \"is not leap year\")"
   ]
  }
 ],
 "metadata": {
  "kernelspec": {
   "display_name": "Python 3",
   "language": "python",
   "name": "python3"
  },
  "language_info": {
   "codemirror_mode": {
    "name": "ipython",
    "version": 3
   },
   "file_extension": ".py",
   "mimetype": "text/x-python",
   "name": "python",
   "nbconvert_exporter": "python",
   "pygments_lexer": "ipython3",
   "version": "3.12.6"
  }
 },
 "nbformat": 4,
 "nbformat_minor": 2
}
